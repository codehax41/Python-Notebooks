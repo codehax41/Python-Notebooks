{
 "cells": [
  {
   "cell_type": "code",
   "execution_count": 3,
   "id": "e47dff8c",
   "metadata": {},
   "outputs": [
    {
     "name": "stdout",
     "output_type": "stream",
     "text": [
      "HELLO\n"
     ]
    }
   ],
   "source": [
    "def print_fn(text):\n",
    "    return text.upper()\n",
    " \n",
    "print(print_fn('hello'))"
   ]
  },
  {
   "cell_type": "code",
   "execution_count": 5,
   "id": "d609b9aa",
   "metadata": {},
   "outputs": [
    {
     "name": "stdout",
     "output_type": "stream",
     "text": [
      "FELLO\n"
     ]
    }
   ],
   "source": [
    "fn = print_fn\n",
    "print(fn(\"fello\"))"
   ]
  },
  {
   "cell_type": "code",
   "execution_count": null,
   "id": "6aa7085e",
   "metadata": {},
   "outputs": [],
   "source": []
  },
  {
   "cell_type": "code",
   "execution_count": 6,
   "id": "17931af6",
   "metadata": {},
   "outputs": [
    {
     "name": "stdout",
     "output_type": "stream",
     "text": [
      "HI, I AM CREATED BY A FUNCTION PASSED AS AN ARGUMENT.\n",
      "hi, i am created by a function passed as an argument.\n"
     ]
    }
   ],
   "source": [
    "def A(text):\n",
    "    return text.upper()\n",
    " \n",
    "def B(text):\n",
    "    return text.lower()\n",
    " \n",
    "def C(func):\n",
    "    hello = func(\"\"\"Hi, I am created by a function passed as an argument.\"\"\")\n",
    "    print (hello)\n",
    " \n",
    "C(A)\n",
    "C(B)"
   ]
  },
  {
   "cell_type": "code",
   "execution_count": null,
   "id": "07829882",
   "metadata": {},
   "outputs": [],
   "source": []
  },
  {
   "cell_type": "code",
   "execution_count": 7,
   "id": "0f511949",
   "metadata": {},
   "outputs": [
    {
     "name": "stdout",
     "output_type": "stream",
     "text": [
      "25\n"
     ]
    }
   ],
   "source": [
    "def add(x):\n",
    "    def adder(y):\n",
    "        return x+y\n",
    " \n",
    "    return adder\n",
    " \n",
    "sum_1 = add(15)\n",
    " \n",
    "print(sum_1(10))"
   ]
  },
  {
   "cell_type": "code",
   "execution_count": null,
   "id": "f99abe12",
   "metadata": {},
   "outputs": [],
   "source": []
  }
 ],
 "metadata": {
  "kernelspec": {
   "display_name": "Python 3 (ipykernel)",
   "language": "python",
   "name": "python3"
  },
  "language_info": {
   "codemirror_mode": {
    "name": "ipython",
    "version": 3
   },
   "file_extension": ".py",
   "mimetype": "text/x-python",
   "name": "python",
   "nbconvert_exporter": "python",
   "pygments_lexer": "ipython3",
   "version": "3.8.8"
  }
 },
 "nbformat": 4,
 "nbformat_minor": 5
}
