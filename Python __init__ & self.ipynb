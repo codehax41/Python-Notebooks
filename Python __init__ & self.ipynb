{
 "cells": [
  {
   "cell_type": "code",
   "execution_count": 1,
   "id": "f20b1940",
   "metadata": {},
   "outputs": [],
   "source": [
    "class Person:\n",
    "  def __init__(self, name, age):\n",
    "    self.name = name\n",
    "    self.age = age"
   ]
  },
  {
   "cell_type": "code",
   "execution_count": 2,
   "id": "a0e265df",
   "metadata": {},
   "outputs": [],
   "source": [
    "p1 = Person(\"John\", 36)"
   ]
  },
  {
   "cell_type": "code",
   "execution_count": 3,
   "id": "bdcd58ae",
   "metadata": {},
   "outputs": [
    {
     "name": "stdout",
     "output_type": "stream",
     "text": [
      "John\n",
      "36\n"
     ]
    }
   ],
   "source": [
    "print(p1.name)\n",
    "print(p1.age)"
   ]
  },
  {
   "cell_type": "code",
   "execution_count": null,
   "id": "9bc57316",
   "metadata": {},
   "outputs": [],
   "source": []
  },
  {
   "cell_type": "code",
   "execution_count": 11,
   "id": "4a268e22",
   "metadata": {},
   "outputs": [
    {
     "name": "stdout",
     "output_type": "stream",
     "text": [
      "Object created with doors = 2\n"
     ]
    }
   ],
   "source": [
    "class Vehicle:\n",
    "    wheels = 4\n",
    "    def __init__(self, doors):\n",
    "        print(f\"Object created with doors = {doors}\")\n",
    "car = Vehicle(2)"
   ]
  },
  {
   "cell_type": "code",
   "execution_count": 12,
   "id": "1e2689d7",
   "metadata": {},
   "outputs": [
    {
     "name": "stdout",
     "output_type": "stream",
     "text": [
      "Object created with doors = 2\n",
      "Object created with doors = 6\n"
     ]
    }
   ],
   "source": [
    "car = Vehicle(2)\n",
    "van = Vehicle(6)"
   ]
  },
  {
   "cell_type": "code",
   "execution_count": null,
   "id": "7c5f7895",
   "metadata": {},
   "outputs": [],
   "source": []
  },
  {
   "cell_type": "code",
   "execution_count": 13,
   "id": "68666b9c",
   "metadata": {},
   "outputs": [
    {
     "name": "stdout",
     "output_type": "stream",
     "text": [
      "car\n",
      "van\n"
     ]
    }
   ],
   "source": [
    "class Vehicle:\n",
    "    def __init__(self, name):\n",
    "        self.name = name\n",
    "vehicle1 = Vehicle(\"car\")\n",
    "vehicle2 = Vehicle(\"van\")\n",
    "print(vehicle1.name)\n",
    "print(vehicle2.name)"
   ]
  },
  {
   "cell_type": "code",
   "execution_count": null,
   "id": "5f22bf42",
   "metadata": {},
   "outputs": [],
   "source": []
  },
  {
   "cell_type": "code",
   "execution_count": 14,
   "id": "1725c75b",
   "metadata": {},
   "outputs": [],
   "source": [
    "class Vehicle:\n",
    "    wheels = 4\n",
    "    def __init__(self, name, doors, seats):\n",
    "        self.name = name\n",
    "        self.doors = doors\n",
    "        self.seats = seats"
   ]
  },
  {
   "cell_type": "code",
   "execution_count": 15,
   "id": "cfea2d86",
   "metadata": {},
   "outputs": [],
   "source": [
    "car = Vehicle(\"Car\", 2, 2)\n",
    "van = Vehicle(\"van\", 6, 12)"
   ]
  },
  {
   "cell_type": "code",
   "execution_count": 16,
   "id": "0c443cac",
   "metadata": {},
   "outputs": [
    {
     "name": "stdout",
     "output_type": "stream",
     "text": [
      "Car 2 2\n",
      "van 6 12\n"
     ]
    }
   ],
   "source": [
    "print(car.name, car.doors, car.seats)\n",
    "print(van.name, van.doors, van.seats)"
   ]
  },
  {
   "cell_type": "code",
   "execution_count": null,
   "id": "b828a40e",
   "metadata": {},
   "outputs": [],
   "source": []
  },
  {
   "cell_type": "code",
   "execution_count": 17,
   "id": "f646f112",
   "metadata": {},
   "outputs": [
    {
     "name": "stdout",
     "output_type": "stream",
     "text": [
      "345\n"
     ]
    }
   ],
   "source": [
    "class MyClass(object):\n",
    "    i = 123\n",
    "    def __init__(self):\n",
    "        self.i = 345\n",
    "     \n",
    "a = MyClass()\n",
    "print(a.i)"
   ]
  },
  {
   "cell_type": "code",
   "execution_count": 18,
   "id": "2ee3e105",
   "metadata": {},
   "outputs": [
    {
     "name": "stdout",
     "output_type": "stream",
     "text": [
      "123\n"
     ]
    }
   ],
   "source": [
    "print(MyClass.i)"
   ]
  },
  {
   "cell_type": "code",
   "execution_count": null,
   "id": "0deea06f",
   "metadata": {},
   "outputs": [],
   "source": []
  }
 ],
 "metadata": {
  "kernelspec": {
   "display_name": "Python 3 (ipykernel)",
   "language": "python",
   "name": "python3"
  },
  "language_info": {
   "codemirror_mode": {
    "name": "ipython",
    "version": 3
   },
   "file_extension": ".py",
   "mimetype": "text/x-python",
   "name": "python",
   "nbconvert_exporter": "python",
   "pygments_lexer": "ipython3",
   "version": "3.8.8"
  }
 },
 "nbformat": 4,
 "nbformat_minor": 5
}
