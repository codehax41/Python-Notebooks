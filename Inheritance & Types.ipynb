{
 "cells": [
  {
   "cell_type": "code",
   "execution_count": 2,
   "id": "68766959",
   "metadata": {},
   "outputs": [],
   "source": [
    "class Animal:\n",
    "    name = \"\"\n",
    "    \n",
    "    def eat(self):\n",
    "        print(\"I am eating\")\n",
    "\n",
    "class Dog(Animal):\n",
    "    def display(self):\n",
    "        print(\"my name is \", self.name)"
   ]
  },
  {
   "cell_type": "code",
   "execution_count": 3,
   "id": "fc918ab6",
   "metadata": {},
   "outputs": [],
   "source": [
    "dog = Dog()"
   ]
  },
  {
   "cell_type": "code",
   "execution_count": 4,
   "id": "3985dbe8",
   "metadata": {},
   "outputs": [],
   "source": [
    "dog.name = \"Fish\""
   ]
  },
  {
   "cell_type": "code",
   "execution_count": 5,
   "id": "8cca4e89",
   "metadata": {},
   "outputs": [
    {
     "name": "stdout",
     "output_type": "stream",
     "text": [
      "I am eating\n"
     ]
    }
   ],
   "source": [
    "dog.eat()"
   ]
  },
  {
   "cell_type": "code",
   "execution_count": 6,
   "id": "68bcafd0",
   "metadata": {},
   "outputs": [
    {
     "name": "stdout",
     "output_type": "stream",
     "text": [
      "my name is  Fish\n"
     ]
    }
   ],
   "source": [
    "dog.display()"
   ]
  },
  {
   "cell_type": "code",
   "execution_count": 7,
   "id": "c179f69a",
   "metadata": {},
   "outputs": [],
   "source": [
    "#Multi level inheritance:\n",
    "class Animal:\n",
    "    def speak(self):\n",
    "        print(\"Animal Speaking\")\n",
    "class Dog(Animal):\n",
    "    def bark(self):\n",
    "        print(\"dog bark\")\n",
    "class DogsChild(Dog):\n",
    "    def child(self):\n",
    "        print(\"baby dog\")"
   ]
  },
  {
   "cell_type": "code",
   "execution_count": 8,
   "id": "65bfe9b9",
   "metadata": {},
   "outputs": [],
   "source": [
    "d = DogsChild()"
   ]
  },
  {
   "cell_type": "code",
   "execution_count": 9,
   "id": "b2b38592",
   "metadata": {},
   "outputs": [
    {
     "name": "stdout",
     "output_type": "stream",
     "text": [
      "Animal Speaking\n"
     ]
    }
   ],
   "source": [
    "d.speak()"
   ]
  },
  {
   "cell_type": "code",
   "execution_count": 10,
   "id": "45d589d3",
   "metadata": {},
   "outputs": [
    {
     "name": "stdout",
     "output_type": "stream",
     "text": [
      "dog bark\n"
     ]
    }
   ],
   "source": [
    "d.bark()"
   ]
  },
  {
   "cell_type": "code",
   "execution_count": 11,
   "id": "d9c3df59",
   "metadata": {},
   "outputs": [
    {
     "name": "stdout",
     "output_type": "stream",
     "text": [
      "baby dog\n"
     ]
    }
   ],
   "source": [
    "d.child()"
   ]
  },
  {
   "cell_type": "code",
   "execution_count": 17,
   "id": "798c2033",
   "metadata": {},
   "outputs": [],
   "source": [
    "#Multiple Inheritance\n",
    "class Calculation1:\n",
    "    def summation(self, a, b):\n",
    "        return a+b\n",
    "class Calculation2:\n",
    "    def multi(self, a, b):\n",
    "        return a*b\n",
    "class child_calc(Calculation1, Calculation2):\n",
    "    def subt(self,a ,b):\n",
    "        return a-b"
   ]
  },
  {
   "cell_type": "code",
   "execution_count": 18,
   "id": "2c54fa12",
   "metadata": {},
   "outputs": [],
   "source": [
    "hd = child_calc()"
   ]
  },
  {
   "cell_type": "code",
   "execution_count": 14,
   "id": "3e0c2518",
   "metadata": {},
   "outputs": [
    {
     "data": {
      "text/plain": [
       "2"
      ]
     },
     "execution_count": 14,
     "metadata": {},
     "output_type": "execute_result"
    }
   ],
   "source": [
    "hd.summation(1,1)"
   ]
  },
  {
   "cell_type": "code",
   "execution_count": 15,
   "id": "39408503",
   "metadata": {},
   "outputs": [
    {
     "data": {
      "text/plain": [
       "1"
      ]
     },
     "execution_count": 15,
     "metadata": {},
     "output_type": "execute_result"
    }
   ],
   "source": [
    "hd.multi(1,1)"
   ]
  },
  {
   "cell_type": "code",
   "execution_count": 19,
   "id": "b4d19558",
   "metadata": {},
   "outputs": [
    {
     "data": {
      "text/plain": [
       "0"
      ]
     },
     "execution_count": 19,
     "metadata": {},
     "output_type": "execute_result"
    }
   ],
   "source": [
    "hd.subt(1,1)"
   ]
  },
  {
   "cell_type": "code",
   "execution_count": null,
   "id": "26b33c85",
   "metadata": {},
   "outputs": [],
   "source": []
  }
 ],
 "metadata": {
  "kernelspec": {
   "display_name": "Python 3 (ipykernel)",
   "language": "python",
   "name": "python3"
  },
  "language_info": {
   "codemirror_mode": {
    "name": "ipython",
    "version": 3
   },
   "file_extension": ".py",
   "mimetype": "text/x-python",
   "name": "python",
   "nbconvert_exporter": "python",
   "pygments_lexer": "ipython3",
   "version": "3.8.8"
  }
 },
 "nbformat": 4,
 "nbformat_minor": 5
}
