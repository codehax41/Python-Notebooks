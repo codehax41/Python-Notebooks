{
 "cells": [
  {
   "cell_type": "code",
   "execution_count": 4,
   "id": "31991bb9",
   "metadata": {},
   "outputs": [
    {
     "name": "stdout",
     "output_type": "stream",
     "text": [
      "This is python\n"
     ]
    }
   ],
   "source": [
    "print(\"This is python\")"
   ]
  },
  {
   "cell_type": "code",
   "execution_count": 5,
   "id": "845f8a02",
   "metadata": {},
   "outputs": [
    {
     "name": "stdout",
     "output_type": "stream",
     "text": [
      "This \n",
      "is python\n"
     ]
    }
   ],
   "source": [
    "print(\"This \\nis python\")"
   ]
  },
  {
   "cell_type": "markdown",
   "id": "27fbf712",
   "metadata": {},
   "source": [
    "# AO"
   ]
  },
  {
   "cell_type": "code",
   "execution_count": 6,
   "id": "e6123f6d",
   "metadata": {},
   "outputs": [],
   "source": [
    "a = 10\n",
    "b = 20"
   ]
  },
  {
   "cell_type": "code",
   "execution_count": 8,
   "id": "ef94e3ff",
   "metadata": {},
   "outputs": [
    {
     "name": "stdout",
     "output_type": "stream",
     "text": [
      "10\n"
     ]
    }
   ],
   "source": [
    "print(a)"
   ]
  },
  {
   "cell_type": "code",
   "execution_count": 19,
   "id": "32e36f18",
   "metadata": {},
   "outputs": [],
   "source": [
    "#addition\n",
    "c = a+b\n",
    "\n",
    "#substraction\n",
    "d = b -a\n",
    "\n",
    "#divide\n",
    "e = b/a\n",
    "\n",
    "#multiplication\n",
    "f = a**b"
   ]
  },
  {
   "cell_type": "code",
   "execution_count": 10,
   "id": "e1215b5f",
   "metadata": {},
   "outputs": [
    {
     "data": {
      "text/plain": [
       "30"
      ]
     },
     "execution_count": 10,
     "metadata": {},
     "output_type": "execute_result"
    }
   ],
   "source": [
    "c"
   ]
  },
  {
   "cell_type": "code",
   "execution_count": 14,
   "id": "856172ee",
   "metadata": {},
   "outputs": [
    {
     "data": {
      "text/plain": [
       "10"
      ]
     },
     "execution_count": 14,
     "metadata": {},
     "output_type": "execute_result"
    }
   ],
   "source": [
    "d"
   ]
  },
  {
   "cell_type": "code",
   "execution_count": 16,
   "id": "ac3c9034",
   "metadata": {},
   "outputs": [
    {
     "data": {
      "text/plain": [
       "2.0"
      ]
     },
     "execution_count": 16,
     "metadata": {},
     "output_type": "execute_result"
    }
   ],
   "source": [
    "e"
   ]
  },
  {
   "cell_type": "code",
   "execution_count": 20,
   "id": "61f09720",
   "metadata": {},
   "outputs": [
    {
     "data": {
      "text/plain": [
       "100000000000000000000"
      ]
     },
     "execution_count": 20,
     "metadata": {},
     "output_type": "execute_result"
    }
   ],
   "source": [
    "f"
   ]
  },
  {
   "cell_type": "code",
   "execution_count": 21,
   "id": "72d69b39",
   "metadata": {},
   "outputs": [],
   "source": [
    "#expo\n",
    "k =  a**b"
   ]
  },
  {
   "cell_type": "code",
   "execution_count": 22,
   "id": "e979bb9c",
   "metadata": {},
   "outputs": [
    {
     "data": {
      "text/plain": [
       "100000000000000000000"
      ]
     },
     "execution_count": 22,
     "metadata": {},
     "output_type": "execute_result"
    }
   ],
   "source": [
    "k"
   ]
  },
  {
   "cell_type": "code",
   "execution_count": 23,
   "id": "296afdd5",
   "metadata": {},
   "outputs": [
    {
     "name": "stdout",
     "output_type": "stream",
     "text": [
      "10\n"
     ]
    }
   ],
   "source": [
    "print(a % b)"
   ]
  },
  {
   "cell_type": "code",
   "execution_count": 24,
   "id": "0a46cd14",
   "metadata": {},
   "outputs": [
    {
     "name": "stdout",
     "output_type": "stream",
     "text": [
      "39.574074074074076\n"
     ]
    }
   ],
   "source": [
    "print(5 * 6 + 10 - 23 / 54)"
   ]
  },
  {
   "cell_type": "code",
   "execution_count": 32,
   "id": "74341f2a",
   "metadata": {},
   "outputs": [],
   "source": [
    "#Inc\n",
    "\n",
    "i = 10\n",
    "i += 1"
   ]
  },
  {
   "cell_type": "code",
   "execution_count": 33,
   "id": "b753c4b7",
   "metadata": {},
   "outputs": [
    {
     "data": {
      "text/plain": [
       "11"
      ]
     },
     "execution_count": 33,
     "metadata": {},
     "output_type": "execute_result"
    }
   ],
   "source": [
    "i"
   ]
  },
  {
   "cell_type": "code",
   "execution_count": 34,
   "id": "8c9bbfb2",
   "metadata": {},
   "outputs": [],
   "source": [
    "i = 9\n",
    "i -= 1"
   ]
  },
  {
   "cell_type": "code",
   "execution_count": 35,
   "id": "bc2ece93",
   "metadata": {},
   "outputs": [
    {
     "data": {
      "text/plain": [
       "8"
      ]
     },
     "execution_count": 35,
     "metadata": {},
     "output_type": "execute_result"
    }
   ],
   "source": [
    "i"
   ]
  },
  {
   "cell_type": "code",
   "execution_count": 36,
   "id": "2c97c6e0",
   "metadata": {},
   "outputs": [
    {
     "name": "stdout",
     "output_type": "stream",
     "text": [
      "False\n"
     ]
    }
   ],
   "source": [
    "#Logical operators\n",
    "\n",
    "print(5 > 6)"
   ]
  },
  {
   "cell_type": "code",
   "execution_count": 37,
   "id": "a1104df6",
   "metadata": {},
   "outputs": [
    {
     "name": "stdout",
     "output_type": "stream",
     "text": [
      "False\n",
      "True\n",
      "True\n"
     ]
    }
   ],
   "source": [
    "print(True and False)\n",
    "print(True or False)\n",
    "print(5 != 6)"
   ]
  },
  {
   "cell_type": "code",
   "execution_count": 38,
   "id": "8797f4a8",
   "metadata": {},
   "outputs": [],
   "source": [
    "#String operation\n",
    "text = \"             The great giant              \""
   ]
  },
  {
   "cell_type": "code",
   "execution_count": 39,
   "id": "72dcd7d2",
   "metadata": {},
   "outputs": [
    {
     "data": {
      "text/plain": [
       "'The great giant              '"
      ]
     },
     "execution_count": 39,
     "metadata": {},
     "output_type": "execute_result"
    }
   ],
   "source": [
    "text.lstrip()"
   ]
  },
  {
   "cell_type": "code",
   "execution_count": 40,
   "id": "d2b29261",
   "metadata": {},
   "outputs": [
    {
     "data": {
      "text/plain": [
       "'             The great giant'"
      ]
     },
     "execution_count": 40,
     "metadata": {},
     "output_type": "execute_result"
    }
   ],
   "source": [
    "text.rstrip()"
   ]
  },
  {
   "cell_type": "code",
   "execution_count": 41,
   "id": "3f07fdac",
   "metadata": {},
   "outputs": [
    {
     "data": {
      "text/plain": [
       "'The great giant'"
      ]
     },
     "execution_count": 41,
     "metadata": {},
     "output_type": "execute_result"
    }
   ],
   "source": [
    "text.strip()"
   ]
  },
  {
   "cell_type": "code",
   "execution_count": 43,
   "id": "aafedae6",
   "metadata": {},
   "outputs": [
    {
     "name": "stdout",
     "output_type": "stream",
     "text": [
      "My marks in science is 10 10\n"
     ]
    }
   ],
   "source": [
    "var = 10\n",
    "print(\"My marks in science is {} {}\".format(var, var))"
   ]
  },
  {
   "cell_type": "code",
   "execution_count": null,
   "id": "c13bb179",
   "metadata": {},
   "outputs": [],
   "source": []
  }
 ],
 "metadata": {
  "kernelspec": {
   "display_name": "Python 3 (ipykernel)",
   "language": "python",
   "name": "python3"
  },
  "language_info": {
   "codemirror_mode": {
    "name": "ipython",
    "version": 3
   },
   "file_extension": ".py",
   "mimetype": "text/x-python",
   "name": "python",
   "nbconvert_exporter": "python",
   "pygments_lexer": "ipython3",
   "version": "3.8.8"
  }
 },
 "nbformat": 4,
 "nbformat_minor": 5
}
