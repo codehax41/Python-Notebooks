{
 "cells": [
  {
   "cell_type": "markdown",
   "id": "cae63175",
   "metadata": {},
   "source": [
    "### File handing"
   ]
  },
  {
   "cell_type": "code",
   "execution_count": 19,
   "id": "1eeca4ba",
   "metadata": {},
   "outputs": [
    {
     "data": {
      "text/plain": [
       "'1. This is python text\\n2. This is modified by python'"
      ]
     },
     "execution_count": 19,
     "metadata": {},
     "output_type": "execute_result"
    }
   ],
   "source": [
    "with open('data.txt', 'r') as f:\n",
    "    data = f.read()\n",
    "data"
   ]
  },
  {
   "cell_type": "code",
   "execution_count": 20,
   "id": "6cca3a60",
   "metadata": {},
   "outputs": [
    {
     "name": "stdout",
     "output_type": "stream",
     "text": [
      "['1.', 'This', 'is', 'python', 'text']\n",
      "['2.', 'This', 'is', 'modified', 'by', 'python']\n"
     ]
    }
   ],
   "source": [
    "with open('data.txt', 'r') as f:\n",
    "    data = f.readlines()\n",
    "    for line in data:\n",
    "        word  = line.split()\n",
    "        print(word)"
   ]
  },
  {
   "cell_type": "code",
   "execution_count": 23,
   "id": "b02bbb85",
   "metadata": {},
   "outputs": [
    {
     "name": "stdout",
     "output_type": "stream",
     "text": [
      "1. This is python text\n",
      "\n",
      "2. This is modified by python\n"
     ]
    }
   ],
   "source": [
    "with open('data.txt', 'r') as f:\n",
    "    data = f.readlines()\n",
    "    for line in data:\n",
    "        print(line)"
   ]
  },
  {
   "cell_type": "code",
   "execution_count": 24,
   "id": "b471a3a8",
   "metadata": {},
   "outputs": [],
   "source": [
    "with open('data.txt', 'w') as f:\n",
    "    data = 'some data to be written to the file'\n",
    "    f.write(data)"
   ]
  },
  {
   "cell_type": "code",
   "execution_count": 25,
   "id": "414fc9e2",
   "metadata": {},
   "outputs": [
    {
     "data": {
      "text/plain": [
       "'some data to be written to the file'"
      ]
     },
     "execution_count": 25,
     "metadata": {},
     "output_type": "execute_result"
    }
   ],
   "source": [
    "with open('data.txt', 'r') as f:\n",
    "    data = f.read()\n",
    "data"
   ]
  },
  {
   "cell_type": "code",
   "execution_count": 26,
   "id": "70c87f6f",
   "metadata": {},
   "outputs": [],
   "source": [
    "with open('data.txt', 'a') as f:\n",
    "    data = 'another line is python'\n",
    "    f.write(data)"
   ]
  },
  {
   "cell_type": "code",
   "execution_count": 27,
   "id": "e8cc2dcc",
   "metadata": {},
   "outputs": [
    {
     "data": {
      "text/plain": [
       "'some data to be written to the fileanother line is python'"
      ]
     },
     "execution_count": 27,
     "metadata": {},
     "output_type": "execute_result"
    }
   ],
   "source": [
    "with open('data.txt', 'r') as f:\n",
    "    data = f.read()\n",
    "data"
   ]
  },
  {
   "cell_type": "markdown",
   "id": "8eb19243",
   "metadata": {},
   "source": [
    "### BIM"
   ]
  },
  {
   "cell_type": "code",
   "execution_count": 28,
   "id": "9146b57a",
   "metadata": {
    "scrolled": true
   },
   "outputs": [
    {
     "name": "stdout",
     "output_type": "stream",
     "text": [
      ".anaconda\n",
      ".android\n",
      ".azcopy\n",
      ".bash_history\n",
      ".cache\n",
      ".conda\n",
      ".condarc\n",
      ".emulator_console_auth_token\n",
      ".git-credentials\n",
      ".gitconfig\n",
      ".gradle\n",
      ".Icecream Screen Recorder\n",
      ".idlerc\n",
      ".ipynb_checkpoints\n",
      ".ipython\n",
      ".jupyter\n",
      ".keras\n",
      ".kivy\n",
      ".m2\n",
      ".matplotlib\n",
      ".nbi\n",
      ".ssh\n",
      ".vscode\n",
      ".wdc\n",
      "3D Objects\n",
      "anaconda3\n",
      "AppData\n",
      "Application Data\n",
      "Break, Pass & Continue.ipynb\n",
      "Contacts\n",
      "Cookies\n",
      "data.txt\n",
      "Decorators.ipynb\n",
      "Desktop\n",
      "Documents\n",
      "Downloads\n",
      "env_nlp_sandbox\n",
      "Favorites\n",
      "File Handing & BuiltinFunctions.ipynb\n",
      "IntelGraphicsProfiles\n",
      "Links\n",
      "Local Settings\n",
      "Logics\n",
      "mlflow.db\n",
      "Music\n",
      "My Documents\n",
      "NetHood\n",
      "nlp_sandbox\n",
      "NTUSER.DAT\n",
      "ntuser.dat.LOG1\n",
      "ntuser.dat.LOG2\n",
      "NTUSER.DAT{e05d68ac-d8d9-11ec-99bd-aaa2bb4cde6a}.TM.blf\n",
      "NTUSER.DAT{e05d68ac-d8d9-11ec-99bd-aaa2bb4cde6a}.TMContainer00000000000000000001.regtrans-ms\n",
      "NTUSER.DAT{e05d68ac-d8d9-11ec-99bd-aaa2bb4cde6a}.TMContainer00000000000000000002.regtrans-ms\n",
      "ntuser.ini\n",
      "OneDrive\n",
      "Pictures\n",
      "PrintHood\n",
      "Python Class.ipynb\n",
      "Python help() & dir().ipynb\n",
      "Python Local and Global Variables.ipynb\n",
      "Python pop(), remove() & del.ipynb\n",
      "Python __init__ & self.ipynb\n",
      "quesries_sql\n",
      "Recent\n",
      "Saved Games\n",
      "Searches\n",
      "SendTo\n",
      "Start Menu\n",
      "Templates\n",
      "Try, Exception & Finally.ipynb\n",
      "Videos\n"
     ]
    }
   ],
   "source": [
    "from pathlib import Path\n",
    "\n",
    "entries = Path('')\n",
    "for entry in entries.iterdir():\n",
    "    print(entry.name)"
   ]
  },
  {
   "cell_type": "code",
   "execution_count": 34,
   "id": "a7827530",
   "metadata": {},
   "outputs": [
    {
     "name": "stdout",
     "output_type": "stream",
     "text": [
      ".anaconda\n",
      ".android\n",
      ".azcopy\n",
      ".bash_history\n",
      ".cache\n",
      ".conda\n",
      ".condarc\n",
      ".emulator_console_auth_token\n",
      ".git-credentials\n",
      ".gitconfig\n",
      ".gradle\n",
      ".Icecream Screen Recorder\n",
      ".idlerc\n",
      ".ipynb_checkpoints\n",
      ".ipython\n",
      ".jupyter\n",
      ".keras\n",
      ".kivy\n",
      ".m2\n",
      ".matplotlib\n",
      ".nbi\n",
      ".ssh\n",
      ".vscode\n",
      ".wdc\n",
      "3D Objects\n",
      "anaconda3\n",
      "AppData\n",
      "Application Data\n",
      "Break, Pass & Continue.ipynb\n",
      "Contacts\n",
      "Cookies\n",
      "data.txt\n",
      "Decorators.ipynb\n",
      "Desktop\n",
      "Documents\n",
      "Downloads\n",
      "env_nlp_sandbox\n",
      "Favorites\n",
      "File Handing & BuiltinFunctions.ipynb\n",
      "IntelGraphicsProfiles\n",
      "Links\n",
      "Local Settings\n",
      "Logics\n",
      "mlflow.db\n",
      "Music\n",
      "My Documents\n",
      "NetHood\n",
      "nlp_sandbox\n",
      "NTUSER.DAT\n",
      "ntuser.dat.LOG1\n",
      "ntuser.dat.LOG2\n",
      "NTUSER.DAT{e05d68ac-d8d9-11ec-99bd-aaa2bb4cde6a}.TM.blf\n",
      "NTUSER.DAT{e05d68ac-d8d9-11ec-99bd-aaa2bb4cde6a}.TMContainer00000000000000000001.regtrans-ms\n",
      "NTUSER.DAT{e05d68ac-d8d9-11ec-99bd-aaa2bb4cde6a}.TMContainer00000000000000000002.regtrans-ms\n",
      "ntuser.ini\n",
      "OneDrive\n",
      "Pictures\n",
      "PrintHood\n",
      "Python Class.ipynb\n",
      "Python help() & dir().ipynb\n",
      "Python Local and Global Variables.ipynb\n",
      "Python pop(), remove() & del.ipynb\n",
      "Python __init__ & self.ipynb\n",
      "quesries_sql\n",
      "Recent\n",
      "Saved Games\n",
      "Searches\n",
      "SendTo\n",
      "Start Menu\n",
      "Templates\n",
      "Try, Exception & Finally.ipynb\n",
      "Videos\n"
     ]
    }
   ],
   "source": [
    "import os\n",
    "\n",
    "with os.scandir('C:/Users/ramsu') as entries:\n",
    "    for entry in entries:\n",
    "        print(entry.name)"
   ]
  },
  {
   "cell_type": "code",
   "execution_count": 30,
   "id": "eaff2a5a",
   "metadata": {},
   "outputs": [
    {
     "data": {
      "text/plain": [
       "['$Recycle.Bin',\n",
       " '$WinREAgent',\n",
       " '.GamingRoot',\n",
       " 'Config.Msi',\n",
       " 'Documents and Settings',\n",
       " 'DumpStack.log.tmp',\n",
       " 'hiberfil.sys',\n",
       " 'Intel',\n",
       " 'pagefile.sys',\n",
       " 'PerfLogs',\n",
       " 'Program Files',\n",
       " 'Program Files (x86)',\n",
       " 'ProgramData',\n",
       " 'Recovery',\n",
       " 'Recycler',\n",
       " 'swapfile.sys',\n",
       " 'System Volume Information',\n",
       " 'Users',\n",
       " 'Windows',\n",
       " 'XboxGames']"
      ]
     },
     "execution_count": 30,
     "metadata": {},
     "output_type": "execute_result"
    }
   ],
   "source": [
    "import os\n",
    "entries = os.listdir('/')\n",
    "entries"
   ]
  },
  {
   "cell_type": "code",
   "execution_count": 33,
   "id": "f34c0605",
   "metadata": {},
   "outputs": [
    {
     "name": "stdout",
     "output_type": "stream",
     "text": [
      ".anaconda\n",
      ".android\n",
      ".azcopy\n",
      ".bash_history\n",
      ".cache\n",
      ".conda\n",
      ".condarc\n",
      ".emulator_console_auth_token\n",
      ".git-credentials\n",
      ".gitconfig\n",
      ".gradle\n",
      ".Icecream Screen Recorder\n",
      ".idlerc\n",
      ".ipynb_checkpoints\n",
      ".ipython\n",
      ".jupyter\n",
      ".keras\n",
      ".kivy\n",
      ".m2\n",
      ".matplotlib\n",
      ".nbi\n",
      ".ssh\n",
      ".vscode\n",
      ".wdc\n",
      "3D Objects\n",
      "anaconda3\n",
      "AppData\n",
      "Application Data\n",
      "Break, Pass & Continue.ipynb\n",
      "Contacts\n",
      "Cookies\n",
      "data.txt\n",
      "Decorators.ipynb\n",
      "Desktop\n",
      "Documents\n",
      "Downloads\n",
      "env_nlp_sandbox\n",
      "Favorites\n",
      "File Handing & BuiltinFunctions.ipynb\n",
      "IntelGraphicsProfiles\n",
      "Links\n",
      "Local Settings\n",
      "Logics\n",
      "mlflow.db\n",
      "Music\n",
      "My Documents\n",
      "NetHood\n",
      "nlp_sandbox\n",
      "NTUSER.DAT\n",
      "ntuser.dat.LOG1\n",
      "ntuser.dat.LOG2\n",
      "NTUSER.DAT{e05d68ac-d8d9-11ec-99bd-aaa2bb4cde6a}.TM.blf\n",
      "NTUSER.DAT{e05d68ac-d8d9-11ec-99bd-aaa2bb4cde6a}.TMContainer00000000000000000001.regtrans-ms\n",
      "NTUSER.DAT{e05d68ac-d8d9-11ec-99bd-aaa2bb4cde6a}.TMContainer00000000000000000002.regtrans-ms\n",
      "ntuser.ini\n",
      "OneDrive\n",
      "Pictures\n",
      "PrintHood\n",
      "Python Class.ipynb\n",
      "Python help() & dir().ipynb\n",
      "Python Local and Global Variables.ipynb\n",
      "Python pop(), remove() & del.ipynb\n",
      "Python __init__ & self.ipynb\n",
      "quesries_sql\n",
      "Recent\n",
      "Saved Games\n",
      "Searches\n",
      "SendTo\n",
      "Start Menu\n",
      "Templates\n",
      "Try, Exception & Finally.ipynb\n",
      "Videos\n"
     ]
    }
   ],
   "source": [
    "entries = os.listdir('C:/Users/ramsu')\n",
    "for entry in entries:\n",
    "     print(entry)"
   ]
  },
  {
   "cell_type": "code",
   "execution_count": 35,
   "id": "a353d211",
   "metadata": {},
   "outputs": [
    {
     "data": {
      "text/plain": [
       "'z'"
      ]
     },
     "execution_count": 35,
     "metadata": {},
     "output_type": "execute_result"
    }
   ],
   "source": [
    "chr(122)"
   ]
  },
  {
   "cell_type": "code",
   "execution_count": 40,
   "id": "2f0ff96f",
   "metadata": {},
   "outputs": [
    {
     "data": {
      "text/plain": [
       "18.4087405"
      ]
     },
     "execution_count": 40,
     "metadata": {},
     "output_type": "execute_result"
    }
   ],
   "source": [
    "abs(40.6348395 - 59.04358)"
   ]
  },
  {
   "cell_type": "code",
   "execution_count": null,
   "id": "d3783e36",
   "metadata": {},
   "outputs": [],
   "source": []
  }
 ],
 "metadata": {
  "kernelspec": {
   "display_name": "Python 3 (ipykernel)",
   "language": "python",
   "name": "python3"
  },
  "language_info": {
   "codemirror_mode": {
    "name": "ipython",
    "version": 3
   },
   "file_extension": ".py",
   "mimetype": "text/x-python",
   "name": "python",
   "nbconvert_exporter": "python",
   "pygments_lexer": "ipython3",
   "version": "3.8.8"
  }
 },
 "nbformat": 4,
 "nbformat_minor": 5
}
