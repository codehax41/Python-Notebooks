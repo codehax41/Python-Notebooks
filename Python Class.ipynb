{
 "cells": [
  {
   "cell_type": "code",
   "execution_count": 1,
   "id": "bbf5f30c",
   "metadata": {},
   "outputs": [],
   "source": [
    "class MyClass:\n",
    "  x = 5"
   ]
  },
  {
   "cell_type": "code",
   "execution_count": 2,
   "id": "3ff58b68",
   "metadata": {},
   "outputs": [
    {
     "name": "stdout",
     "output_type": "stream",
     "text": [
      "5\n"
     ]
    }
   ],
   "source": [
    "p1 = MyClass()\n",
    "print(p1.x)"
   ]
  },
  {
   "cell_type": "code",
   "execution_count": null,
   "id": "f12f80b1",
   "metadata": {},
   "outputs": [],
   "source": []
  },
  {
   "cell_type": "code",
   "execution_count": 4,
   "id": "7efb8ef7",
   "metadata": {},
   "outputs": [],
   "source": [
    "class Vehicle:\n",
    "    wheels = 4"
   ]
  },
  {
   "cell_type": "code",
   "execution_count": 5,
   "id": "0ad0aa06",
   "metadata": {},
   "outputs": [
    {
     "name": "stdout",
     "output_type": "stream",
     "text": [
      "4\n"
     ]
    }
   ],
   "source": [
    "car = Vehicle()\n",
    "print(car.wheels)"
   ]
  },
  {
   "cell_type": "code",
   "execution_count": 6,
   "id": "9340502d",
   "metadata": {},
   "outputs": [
    {
     "name": "stdout",
     "output_type": "stream",
     "text": [
      "10\n"
     ]
    }
   ],
   "source": [
    "#object_name.attribute_name = value\n",
    "\n",
    "car.wheels = 10\n",
    "print(car.wheels)"
   ]
  },
  {
   "cell_type": "code",
   "execution_count": null,
   "id": "82bcb88d",
   "metadata": {},
   "outputs": [],
   "source": []
  },
  {
   "cell_type": "code",
   "execution_count": 7,
   "id": "52128938",
   "metadata": {},
   "outputs": [
    {
     "name": "stdout",
     "output_type": "stream",
     "text": [
      "4\n",
      "4\n"
     ]
    }
   ],
   "source": [
    "class Vehicle:\n",
    "    wheels = 4\n",
    "car = Vehicle()\n",
    "van = Vehicle()\n",
    "print(car.wheels)\n",
    "print(van.wheels)"
   ]
  },
  {
   "cell_type": "code",
   "execution_count": 8,
   "id": "e57970f6",
   "metadata": {},
   "outputs": [
    {
     "name": "stdout",
     "output_type": "stream",
     "text": [
      "10\n"
     ]
    }
   ],
   "source": [
    "Vehicle.wheels = 10\n",
    "print(Vehicle.wheels)"
   ]
  },
  {
   "cell_type": "code",
   "execution_count": 9,
   "id": "e4014189",
   "metadata": {},
   "outputs": [
    {
     "name": "stdout",
     "output_type": "stream",
     "text": [
      "10\n",
      "10\n"
     ]
    }
   ],
   "source": [
    "print(car.wheels)\n",
    "print(van.wheels)"
   ]
  },
  {
   "cell_type": "code",
   "execution_count": null,
   "id": "98cfa5fc",
   "metadata": {},
   "outputs": [],
   "source": []
  }
 ],
 "metadata": {
  "kernelspec": {
   "display_name": "Python 3 (ipykernel)",
   "language": "python",
   "name": "python3"
  },
  "language_info": {
   "codemirror_mode": {
    "name": "ipython",
    "version": 3
   },
   "file_extension": ".py",
   "mimetype": "text/x-python",
   "name": "python",
   "nbconvert_exporter": "python",
   "pygments_lexer": "ipython3",
   "version": "3.8.8"
  }
 },
 "nbformat": 4,
 "nbformat_minor": 5
}
